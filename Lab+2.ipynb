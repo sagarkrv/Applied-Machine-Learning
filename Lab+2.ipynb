{
 "cells": [
  {
   "cell_type": "markdown",
   "metadata": {},
   "source": [
    "# Project 2: Topic Classification"
   ]
  },
  {
   "cell_type": "markdown",
   "metadata": {},
   "source": [
    "In this project, you'll work with text data from newsgroup postings on a variety of topics. You'll train classifiers to distinguish between the topics based on the text of the posts. Whereas with digit classification, the input is relatively dense: a 28x28 matrix of pixels, many of which are non-zero, here we'll represent each document with a \"bag-of-words\" model. As you'll see, this makes the feature representation quite sparse -- only a few words of the total vocabulary are active in any given document. The bag-of-words assumption here is that the label depends only on the words; their order is not important.\n",
    "\n",
    "The SK-learn documentation on feature extraction will prove useful:\n",
    "http://scikit-learn.org/stable/modules/feature_extraction.html\n",
    "\n",
    "Each problem can be addressed succinctly with the included packages -- please don't add any more. Grading will be based on writing clean, commented code, along with a few short answers.\n",
    "\n",
    "As always, you're welcome to work on the project in groups and discuss ideas on the course wall, but please prepare your own write-up and write your own code."
   ]
  },
  {
   "cell_type": "code",
   "execution_count": 1,
   "metadata": {},
   "outputs": [
    {
     "name": "stderr",
     "output_type": "stream",
     "text": [
      "C:\\Users\\I822363\\AppData\\Local\\Continuum\\Anaconda3\\lib\\site-packages\\sklearn\\cross_validation.py:44: DeprecationWarning: This module was deprecated in version 0.18 in favor of the model_selection module into which all the refactored classes and functions are moved. Also note that the interface of the new CV iterators are different from that of this module. This module will be removed in 0.20.\n",
      "  \"This module will be removed in 0.20.\", DeprecationWarning)\n",
      "C:\\Users\\I822363\\AppData\\Local\\Continuum\\Anaconda3\\lib\\site-packages\\sklearn\\grid_search.py:43: DeprecationWarning: This module was deprecated in version 0.18 in favor of the model_selection module into which all the refactored classes and functions are moved. This module will be removed in 0.20.\n",
      "  DeprecationWarning)\n"
     ]
    }
   ],
   "source": [
    "# This tells matplotlib not to try opening a new window for each plot.\n",
    "%matplotlib inline\n",
    "\n",
    "# General libraries.\n",
    "import re\n",
    "import numpy as np\n",
    "import pandas as pd\n",
    "import matplotlib.pyplot as plt\n",
    "\n",
    "# SK-learn libraries for learning.\n",
    "from sklearn.pipeline import Pipeline\n",
    "from sklearn.neighbors import KNeighborsClassifier\n",
    "from sklearn.linear_model import LogisticRegression\n",
    "from sklearn.naive_bayes import BernoulliNB\n",
    "from sklearn.naive_bayes import MultinomialNB\n",
    "from sklearn.grid_search import GridSearchCV\n",
    "\n",
    "# SK-learn libraries for evaluation.\n",
    "from sklearn.metrics import confusion_matrix\n",
    "from sklearn import metrics\n",
    "from sklearn.metrics import classification_report\n",
    "\n",
    "# SK-learn library for importing the newsgroup data.\n",
    "from sklearn.datasets import fetch_20newsgroups\n",
    "\n",
    "# SK-learn libraries for feature extraction from text.\n",
    "from sklearn.feature_extraction.text import *"
   ]
  },
  {
   "cell_type": "markdown",
   "metadata": {},
   "source": [
    "Load the data, stripping out metadata so that we learn classifiers that only use textual features. By default, newsgroups data is split into train and test sets. We further split the test so we have a dev set. Note that we specify 4 categories to use for this project. If you remove the categories argument from the fetch function, you'll get all 20 categories."
   ]
  },
  {
   "cell_type": "code",
   "execution_count": 2,
   "metadata": {},
   "outputs": [
    {
     "name": "stdout",
     "output_type": "stream",
     "text": [
      "training label shape: (2034,)\n",
      "test label shape: (677,)\n",
      "dev label shape: (676,)\n",
      "labels names: ['alt.atheism', 'comp.graphics', 'sci.space', 'talk.religion.misc']\n"
     ]
    }
   ],
   "source": [
    "categories = ['alt.atheism', 'talk.religion.misc', 'comp.graphics', 'sci.space']\n",
    "newsgroups_train = fetch_20newsgroups(subset='train', remove=(\n",
    "#                                      'headers', 'footers', \n",
    "#                                              'quotes'\n",
    "                                             ),\n",
    "                                      categories=categories)\n",
    "newsgroups_test = fetch_20newsgroups(subset='test',\n",
    "                                     remove=('headers', 'footers', 'quotes'),\n",
    "                                     categories=categories)\n",
    "\n",
    "num_test = len(newsgroups_test.target)\n",
    "int_num_test = int(num_test/2)\n",
    "test_data, test_labels = newsgroups_test.data[int_num_test:], newsgroups_test.target[int_num_test:]\n",
    "dev_data, dev_labels = newsgroups_test.data[:int_num_test], newsgroups_test.target[:int_num_test]\n",
    "train_data, train_labels = newsgroups_train.data, newsgroups_train.target\n",
    "\n",
    "print ('training label shape:', train_labels.shape)\n",
    "print ('test label shape:', test_labels.shape)\n",
    "print ('dev label shape:', dev_labels.shape)\n",
    "print ('labels names:', newsgroups_train.target_names)"
   ]
  },
  {
   "cell_type": "markdown",
   "metadata": {},
   "source": [
    "## (1) For each of the first 5 training examples, print the text of the message along with the label."
   ]
  },
  {
   "cell_type": "code",
   "execution_count": 3,
   "metadata": {},
   "outputs": [
    {
     "name": "stdout",
     "output_type": "stream",
     "text": [
      "\n",
      "\n",
      " From: rych@festival.ed.ac.uk (R Hawkes)\n",
      "Subject: 3DS: Where did all the texture rules go?\n",
      "Lines: 21\n",
      "\n",
      "Hi,\n",
      "\n",
      "I've noticed that if you only save a model (with all your mapping planes\n",
      "positioned carefully) to a .3DS file that when you reload it after restarting\n",
      "3DS, they are given a default position and orientation.  But if you save\n",
      "to a .PRJ file their positions/orientation are preserved.  Does anyone\n",
      "know why this information is not stored in the .3DS file?  Nothing is\n",
      "explicitly said in the manual about saving texture rules in the .PRJ file. \n",
      "I'd like to be able to read the texture rule information, does anyone have \n",
      "the format for the .PRJ file?\n",
      "\n",
      "Is the .CEL file format available from somewhere?\n",
      "\n",
      "Rych\n",
      "\n",
      "======================================================================\n",
      "Rycharde Hawkes\t\t\t\temail: rych@festival.ed.ac.uk\n",
      "Virtual Environment Laboratory\n",
      "Dept. of Psychology\t\t\tTel  : +44 31 650 3426\n",
      "Univ. of Edinburgh\t\t\tFax  : +44 31 667 0150\n",
      "======================================================================\n",
      " \n",
      "training label :  1\n",
      "\n",
      "\n",
      " Subject: Re: Biblical Backing of Koresh's 3-02 Tape (Cites enclosed)\n",
      "From: kmcvay@oneb.almanac.bc.ca (Ken Mcvay)\n",
      "Organization: The Old Frog's Almanac\n",
      "Lines: 20\n",
      "\n",
      "In article <20APR199301460499@utarlg.uta.edu> b645zaw@utarlg.uta.edu (stephen) writes:\n",
      "\n",
      ">Seems to me Koresh is yet another messenger that got killed\n",
      ">for the message he carried. (Which says nothing about the \n",
      "\n",
      "Seems to be, barring evidence to the contrary, that Koresh was simply\n",
      "another deranged fanatic who thought it neccessary to take a whole bunch of\n",
      "folks with him, children and all, to satisfy his delusional mania. Jim\n",
      "Jones, circa 1993.\n",
      "\n",
      ">In the mean time, we sure learned a lot about evil and corruption.\n",
      ">Are you surprised things have gotten that rotten?\n",
      "\n",
      "Nope - fruitcakes like Koresh have been demonstrating such evil corruption\n",
      "for centuries.\n",
      "-- \n",
      "The Old Frog's Almanac - A Salute to That Old Frog Hisse'f, Ryugen Fisher \n",
      "     (604) 245-3205 (v32) (604) 245-4366 (2400x4) SCO XENIX 2.3.2 GT \n",
      "  Ladysmith, British Columbia, CANADA. Serving Central Vancouver Island  \n",
      "with public access UseNet and Internet Mail - home to the Holocaust Almanac\n",
      " \n",
      "training label :  3\n",
      "\n",
      "\n",
      " From: Mark.Perew@p201.f208.n103.z1.fidonet.org\n",
      "Subject: Re: Comet in Temporary Orbit Around Jupiter?\n",
      "X-Sender: newtout 0.08 Feb 23 1993\n",
      "Lines: 15\n",
      "\n",
      "In a message of <Apr 19 04:55>, jgarland@kean.ucs.mun.ca writes:\n",
      "\n",
      " >In article <1993Apr19.020359.26996@sq.sq.com>, msb@sq.sq.com (Mark Brader) \n",
      " >writes:\n",
      "\n",
      "MB>                                                             So the\n",
      "MB> 1970 figure seems unlikely to actually be anything but a perijove.\n",
      "\n",
      "JG>Sorry, _perijoves_...I'm not used to talking this language.\n",
      "\n",
      "Couldn't we just say periapsis or apoapsis?\n",
      "\n",
      " \n",
      "\n",
      "--- msged 2.07\n",
      " \n",
      "training label :  2\n",
      "\n",
      "\n",
      " From: dpw@sei.cmu.edu (David Wood)\n",
      "Subject: Request for Support\n",
      "Organization: Software Engineering Institute\n",
      "Lines: 35\n",
      "\n",
      "\n",
      "\n",
      "I have a request for those who would like to see Charley Wingate\n",
      "respond to the \"Charley Challenges\" (and judging from my e-mail, there\n",
      "appear to be quite a few of you.)  \n",
      "\n",
      "It is clear that Mr. Wingate intends to continue to post tangential or\n",
      "unrelated articles while ingoring the Challenges themselves.  Between\n",
      "the last two re-postings of the Challenges, I noted perhaps a dozen or\n",
      "more posts by Mr. Wingate, none of which answered a single Challenge.  \n",
      "\n",
      "It seems unmistakable to me that Mr. Wingate hopes that the questions\n",
      "will just go away, and he is doing his level best to change the\n",
      "subject.  Given that this seems a rather common net.theist tactic, I\n",
      "would like to suggest that we impress upon him our desire for answers,\n",
      "in the following manner:\n",
      "\n",
      "1. Ignore any future articles by Mr. Wingate that do not address the\n",
      "Challenges, until he answers them or explictly announces that he\n",
      "refuses to do so.\n",
      "\n",
      "--or--\n",
      "\n",
      "2. If you must respond to one of his articles, include within it\n",
      "something similar to the following:\n",
      "\n",
      "    \"Please answer the questions posed to you in the Charley Challenges.\"\n",
      "\n",
      "Really, I'm not looking to humiliate anyone here, I just want some\n",
      "honest answers.  You wouldn't think that honesty would be too much to\n",
      "ask from a devout Christian, would you?  \n",
      "\n",
      "Nevermind, that was a rhetorical question.\n",
      "\n",
      "--Dave Wood\n",
      " \n",
      "training label :  0\n",
      "\n",
      "\n",
      " From: prb@access.digex.com (Pat)\n",
      "Subject: Conference on Manned Lunar Exploration.  May 7  Crystal City\n",
      "Organization: Express Access Online Communications, Greenbelt MD USA\n",
      "Lines: 9\n",
      "Distribution: na\n",
      "NNTP-Posting-Host: access.digex.net\n",
      "\n",
      "\n",
      "AW&ST  had a brief blurb on a Manned Lunar Exploration confernce\n",
      "May 7th  at Crystal City Virginia, under the auspices of AIAA.\n",
      "\n",
      "Does anyone know more about this?  How much, to attend????\n",
      "\n",
      "Anyone want to go?\n",
      "\n",
      "pat\n",
      " \n",
      "training label :  2\n"
     ]
    }
   ],
   "source": [
    "def P1(num_examples=5):\n",
    "### STUDENT START ###\n",
    "    for lv_counter in range(num_examples):\n",
    "        print(\"\\n\\n\",train_data[lv_counter], \"\\ntraining label : \", train_labels[lv_counter])\n",
    "\n",
    "### STUDENT END ###\n",
    "P1()\n"
   ]
  },
  {
   "cell_type": "markdown",
   "metadata": {},
   "source": [
    "## (2) Use CountVectorizer to turn the raw training text into feature vectors. You should use the fit_transform function, which makes 2 passes through the data: first it computes the vocabulary (\"fit\"), second it converts the raw text into feature vectors using the vocabulary (\"transform\"). The vectorizer has a lot of options. To get familiar with some of them, write code to answer these questions:"
   ]
  },
  {
   "cell_type": "code",
   "execution_count": 4,
   "metadata": {},
   "outputs": [
    {
     "data": {
      "text/plain": [
       "array([[0, 0, 0, ..., 0, 0, 0],\n",
       "       [0, 0, 0, ..., 0, 0, 0],\n",
       "       [0, 0, 0, ..., 0, 0, 0],\n",
       "       ..., \n",
       "       [0, 0, 0, ..., 0, 0, 0],\n",
       "       [0, 0, 0, ..., 0, 0, 0],\n",
       "       [0, 0, 0, ..., 0, 0, 0]], dtype=int64)"
      ]
     },
     "execution_count": 4,
     "metadata": {},
     "output_type": "execute_result"
    }
   ],
   "source": [
    "def P2():\n",
    "### STUDENT START ###\n",
    "    vectorizer = CountVectorizer()\n",
    "    corpus = train_data\n",
    "    X = vectorizer.fit_transform(corpus)\n",
    "    return vectorizer, X \n",
    "### STUDENT END ###\n",
    "\n",
    "vectorizer, X = P2()\n",
    "X.toarray()\n"
   ]
  },
  {
   "cell_type": "markdown",
   "metadata": {},
   "source": [
    "### a. The output of the transform (also of fit_transform) is a sparse matrix: http://docs.scipy.org/doc/scipy-0.14.0/reference/generated/scipy.sparse.csr_matrix.html. What is the size of the vocabulary? What is the average number of non-zero features per example? What fraction of the entries in the matrix are non-zero? Hint: use \"nnz\" and \"shape\" attributes."
   ]
  },
  {
   "cell_type": "code",
   "execution_count": 5,
   "metadata": {},
   "outputs": [
    {
     "name": "stdout",
     "output_type": "stream",
     "text": [
      "average no of features that are non zero per example:  159\n",
      "fraction of matrix entries that are non-zero 0.466 %\n"
     ]
    }
   ],
   "source": [
    "from scipy.sparse import csr_matrix\n",
    "\n",
    "# average no of features that are non zero per example\n",
    "print('average no of features that are non zero per example: ',round(X.getnnz()/X.shape[0]))\n",
    "\n",
    "# fraction of matrix entries that are non-zero\n",
    "print('fraction of matrix entries that are non-zero %.3f' % (100 * X.getnnz()/np.prod(X.shape)), '%')\n"
   ]
  },
  {
   "cell_type": "markdown",
   "metadata": {},
   "source": [
    "> **_W/o removing headers, footers and quotes: On an average, there are 97 non-zero features per sample and 0.36% of entries that are non-zero!_**\n",
    "\n",
    "> **_With removing headers, footers and quotes: On an average, there are 132 non-zero features per sample, which is 0.42% of entries that are non-zero!_**"
   ]
  },
  {
   "cell_type": "markdown",
   "metadata": {},
   "source": [
    "### b. What are the 0th and last feature strings (in alphabetical order)? Hint: use the vectorizer's get_feature_names function."
   ]
  },
  {
   "cell_type": "code",
   "execution_count": 6,
   "metadata": {},
   "outputs": [
    {
     "name": "stdout",
     "output_type": "stream",
     "text": [
      "0th feature name: 00\n",
      "last feature name: ºnd\n"
     ]
    }
   ],
   "source": [
    "analyze = vectorizer.build_analyzer()\n",
    "print('0th feature name:',vectorizer.get_feature_names()[0])\n",
    "print('last feature name:',vectorizer.get_feature_names()[-1])"
   ]
  },
  {
   "cell_type": "markdown",
   "metadata": {},
   "source": [
    "### c. Specify your own vocabulary with 4 words: [\"atheism\", \"graphics\", \"space\", \"religion\"]. Confirm the training vectors are appropriately shaped. Now what's the average number of non-zero features per example?\n"
   ]
  },
  {
   "cell_type": "code",
   "execution_count": 7,
   "metadata": {},
   "outputs": [
    {
     "name": "stdout",
     "output_type": "stream",
     "text": [
      "feature name: ['atheism', 'graphics', 'space', 'religion']\n",
      "Training vector shape no of rows: 2034 , no of features 4\n",
      "Total non-zero entries:  828\n",
      "average no of features that are non zero per example:  0.41\n"
     ]
    },
    {
     "data": {
      "text/plain": [
       "array([[0, 0, 0, 0],\n",
       "       [0, 0, 0, 0],\n",
       "       [0, 0, 0, 0],\n",
       "       ..., \n",
       "       [0, 0, 0, 0],\n",
       "       [2, 0, 0, 1],\n",
       "       [0, 0, 0, 0]], dtype=int64)"
      ]
     },
     "execution_count": 7,
     "metadata": {},
     "output_type": "execute_result"
    }
   ],
   "source": [
    "vectorizer_w_vocab = CountVectorizer(\n",
    "    vocabulary = [\"atheism\", \"graphics\", \"space\", \"religion\"])\n",
    "corpus = train_data\n",
    "X2 = vectorizer_w_vocab.fit_transform(corpus)\n",
    "#analyze2 = vectorizer_w_vocab.build_analyzer()\n",
    "\n",
    "print('feature name:',vectorizer_w_vocab.get_feature_names())\n",
    "print(\n",
    " 'Training vector shape no of rows: %d , no of features %d' % (\n",
    "  X2.shape)\n",
    "     )\n",
    "\n",
    "# Total entries that are non zero\n",
    "print('Total non-zero entries: ',X2.getnnz())\n",
    "\n",
    "# average no of features that are non zero per example\n",
    "print('average no of features that are non zero per example: ',round(\n",
    "    X2.getnnz()/X2.shape[0],2))\n",
    "\n",
    "X2.toarray()"
   ]
  },
  {
   "cell_type": "markdown",
   "metadata": {},
   "source": [
    "> **_0.27 out of 4 features is 6.75%. Roughly 6.75% of the features is non zero_**"
   ]
  },
  {
   "cell_type": "markdown",
   "metadata": {},
   "source": [
    "### d. Instead of extracting unigram word features, use \"analyzer\" and \"ngram_range\" to extract bigram and trigram character features. What size vocabulary does this yield?\n"
   ]
  },
  {
   "cell_type": "code",
   "execution_count": 8,
   "metadata": {},
   "outputs": [
    {
     "name": "stdout",
     "output_type": "stream",
     "text": [
      "Vocabulary shape for bigram and trigram features: (rows, columns) (2034, 654493)\n",
      "Vocabulary size:  654493\n",
      "Some Example features: \n",
      " ['00 00', '00 00 gmt', '00 01', '00 01 gmt', '00 04', '00 04 gmt', '00 06', '00 06 17', '00 10', '00 10 followed', '00 10 opening', '00 11', '00 11 49', '00 12', '00 12 00', '00 13', '00 13 phone', '00 16', '00 16 13', '00 1993']\n"
     ]
    }
   ],
   "source": [
    "bitrigram_vectorizer = CountVectorizer(ngram_range=(2,3),\n",
    "#                      token_pattern=r'\\b\\w+\\b', \n",
    "                       min_df=1)\n",
    "X_3 = bitrigram_vectorizer.fit_transform(corpus).toarray()\n",
    "print('Vocabulary shape for bigram and trigram features: (rows, columns)', X_3.shape)\n",
    "print('Vocabulary size: ', X_3.shape[1])\n",
    "\n",
    "# print first 100 bigram and trigram features\n",
    "print('Some Example features: \\n',bitrigram_vectorizer.get_feature_names()[:20])\n"
   ]
  },
  {
   "cell_type": "markdown",
   "metadata": {},
   "source": [
    "### e. Use the \"min_df\" argument to prune words that appear in fewer than 10 documents. What size vocabulary does this yield?"
   ]
  },
  {
   "cell_type": "code",
   "execution_count": 9,
   "metadata": {},
   "outputs": [
    {
     "name": "stdout",
     "output_type": "stream",
     "text": [
      "Vocabulary shape: 4578\n"
     ]
    }
   ],
   "source": [
    "vectorizer = CountVectorizer(min_df=10)\n",
    "corpus = train_data\n",
    "X = vectorizer.fit_transform(corpus)\n",
    "print('Vocabulary shape:', X.shape[1]) \n"
   ]
  },
  {
   "cell_type": "markdown",
   "metadata": {},
   "source": [
    "### f. Using the standard CountVectorizer, what fraction of the words in the dev data are missing from the vocabulary? Hint: build a vocabulary for both train and dev and look at the size of the difference."
   ]
  },
  {
   "cell_type": "code",
   "execution_count": 10,
   "metadata": {},
   "outputs": [
    {
     "data": {
      "text/plain": [
       "3579"
      ]
     },
     "execution_count": 10,
     "metadata": {},
     "output_type": "execute_result"
    }
   ],
   "source": [
    "dev_vectorizer = CountVectorizer()\n",
    "dev_X = dev_vectorizer.fit_transform(dev_data)\n",
    "\n",
    "\n",
    "train_vectorizer = CountVectorizer()\n",
    "train_X = train_vectorizer.fit_transform(train_data)\n",
    "\n",
    "dev_features = dev_vectorizer.get_feature_names()\n",
    "train_features = train_vectorizer.get_feature_names()\n",
    "\n",
    "# Dev features that are not in train data\n",
    "len(list(set(dev_features) - set(train_features)))\n"
   ]
  },
  {
   "cell_type": "markdown",
   "metadata": {},
   "source": [
    "## (3) Use the default CountVectorizer options and report the f1 score (use metrics.f1_score) for a k nearest neighbors classifier; find the optimal value for k. Also fit a Multinomial Naive Bayes model and find the optimal value for alpha. Finally, fit a logistic regression model and find the optimal value for the regularization strength C using l2 regularization. A few questions:"
   ]
  },
  {
   "cell_type": "code",
   "execution_count": 11,
   "metadata": {},
   "outputs": [
    {
     "name": "stdout",
     "output_type": "stream",
     "text": [
      "data loaded\n",
      "2034 documents - 3.980MB (training set)\n",
      "676 documents - 1.013MB (test set)\n",
      "4 categories\n",
      "\n",
      "Extracting features from the training data using a sparse vectorizer\n",
      "done in 0.896474s at 4.439MB/s\n",
      "n_samples: 2034, n_features: 33809\n",
      "\n",
      "Extracting features from the test data using the same vectorizer\n",
      "done in 0.165641s at 6.114MB/s\n",
      "n_samples: 676, n_features: 33809\n",
      "\n"
     ]
    }
   ],
   "source": [
    "from time import time\n",
    "\n",
    "print('data loaded')\n",
    "\n",
    "# order of labels in `target_names` can be different from `categories`\n",
    "target_names = newsgroups_train.target_names\n",
    "\n",
    "def size_mb(docs):\n",
    "    return sum(len(s.encode('utf-8')) for s in docs) / 1e6\n",
    "\n",
    "train_data_size_mb = size_mb(train_data)\n",
    "dev_data_size_mb = size_mb(dev_data)\n",
    "\n",
    "print(\"%d documents - %0.3fMB (training set)\" % (\n",
    "    len(train_data), train_data_size_mb))\n",
    "print(\"%d documents - %0.3fMB (test set)\" % (\n",
    "    len(dev_data), dev_data_size_mb))\n",
    "print(\"%d categories\" % len(categories))\n",
    "print()\n",
    "\n",
    "\n",
    "print(\"Extracting features from the training data using a sparse vectorizer\")\n",
    "t0 = time()\n",
    "\n",
    "vectorizer = CountVectorizer( \n",
    "                              max_df=0.5, \n",
    "                              stop_words = 'english'\n",
    "                              )\n",
    "X_train = vectorizer.fit_transform(train_data)\n",
    "y_train = train_labels\n",
    "duration = time() - t0\n",
    "print(\"done in %fs at %0.3fMB/s\" % (duration, train_data_size_mb / duration))\n",
    "print(\"n_samples: %d, n_features: %d\" % X_train.shape)\n",
    "print()\n",
    "\n",
    "\n",
    "print(\"Extracting features from the test data using the same vectorizer\")\n",
    "t0 = time()\n",
    "X_dev = vectorizer.transform(dev_data)\n",
    "y_dev = dev_labels\n",
    "duration = time() - t0\n",
    "print(\"done in %fs at %0.3fMB/s\" % (duration, dev_data_size_mb / duration))\n",
    "print(\"n_samples: %d, n_features: %d\" % X_dev.shape)\n",
    "print()\n",
    "\n",
    "\n"
   ]
  },
  {
   "cell_type": "code",
   "execution_count": 12,
   "metadata": {},
   "outputs": [
    {
     "name": "stdout",
     "output_type": "stream",
     "text": [
      "KNeighborsClassifier(algorithm='brute', leaf_size=30, metric='minkowski',\n",
      "           metric_params=None, n_jobs=1, n_neighbors=5, p=2,\n",
      "           weights='uniform') \n",
      "best parameters: {'n_neighbors': 5, 'weights': 'distance'}\n",
      "best cross validation score: 0.775 \n",
      "\n",
      "MultinomialNB(alpha=1.0, class_prior=None, fit_prior=True) \n",
      "best parameters: {'alpha': 1.0}\n",
      "best cross validation score: 0.961 \n",
      "\n",
      "LogisticRegression(C=1.0, class_weight=None, dual=False, fit_intercept=True,\n",
      "          intercept_scaling=1, max_iter=100, multi_class='ovr', n_jobs=1,\n",
      "          penalty='l2', random_state=None, solver='liblinear', tol=0.0001,\n",
      "          verbose=0, warm_start=False) \n",
      "best parameters: {'C': 10.0}\n",
      "best cross validation score: 0.961 \n",
      "\n"
     ]
    },
    {
     "data": {
      "image/png": "[encoded data removed]",
      "text/plain": [
       "<matplotlib.figure.Figure at 0x284939061d0>"
      ]
     },
     "metadata": {},
     "output_type": "display_data"
    }
   ],
   "source": [
    "def gridSearch(\n",
    "                clf, parameters, plot_x_axis_text, x_range,\n",
    "                X_train = X_train,\n",
    "                y_train = y_train,\n",
    "                X_dev   = X_dev,\n",
    "                y_dev   = y_dev\n",
    "               ):\n",
    "    grid = GridSearchCV(clf, parameters, cv=10)\n",
    "    grid.fit(X_train, y_train)\n",
    "    print(clf, \"\\nbest parameters:\", grid.best_params_)\n",
    "    print(\"best cross validation score: %.3f \\n\" % grid.best_score_)\n",
    "    grid.score(X_dev, y_dev)\n",
    "    grid_mean_scores = [\n",
    "        result.mean_validation_score for result in grid.grid_scores_]\n",
    "\n",
    "#    fig = plt.figure(figsize = (5,4))\n",
    "#    plt.plot(x_range, grid_mean_scores)\n",
    "#    plt.xlabel(plot_x_axis_text)\n",
    "#    plt.ylabel('Cross-Validated Accuracy')\n",
    "    return grid, grid_mean_scores\n",
    "\n",
    "def custom_plot(\n",
    "    ax, x_range, grid_mean_scores, plot_x_axis_text):\n",
    "    ax.plot(x_range, grid_mean_scores, 'r.-')\n",
    "    ax.set_xlabel(plot_x_axis_text)\n",
    "    ax.set_ylabel('Cross-validated accuracy')\n",
    "    \n",
    "########## Perform kNN ###########################\n",
    "knn = KNeighborsClassifier(algorithm = 'brute')\n",
    "parameters = [{'weights': [\n",
    "    'uniform', 'distance'], 'n_neighbors': [\n",
    "        5, 10, 20, 30, 40, 50, 60, 70, 80, 90, 100]}]\n",
    "k_range = [\n",
    "    5,5,10,10,20,20,30,30,40,40,\n",
    "    50,50,60,60,70,70,80,80,90,90,100,100]\n",
    "grid_kNN, gms_kNN = gridSearch(\n",
    "    knn, parameters, \"Value of K for KNN\", k_range)\n",
    "# Plot the data\n",
    "fig = plt.figure(figsize=(15,8))\n",
    "ax1 = fig.add_subplot(1,3,1)\n",
    "custom_plot(ax1, k_range, gms_kNN,\"Value of K for KNN\" )\n",
    "################ end of kNN ######################\n",
    "\n",
    "########## Perform Multinomial Naive bayes #######\n",
    "MNB = MultinomialNB()\n",
    "parameter_MNB = {'alpha': 10. ** np.arange(-5,5)}\n",
    "alpha_range = 10. ** np.arange(-5,5)\n",
    "grid_MNB, gms_MNB = gridSearch(MNB, parameter_MNB, \"Value of alpha for MNB\", alpha_range)\n",
    "# plot the data\n",
    "ax2 = fig.add_subplot(1,3,2)\n",
    "custom_plot(ax2, alpha_range, gms_MNB,\"Value of alpha for MNB\" )\n",
    "################ end of MNB ######################\n",
    "\n",
    "########## Perform Logistic Regression############\n",
    "LR = LogisticRegression()\n",
    "parameter_LR = {'C': 10. ** np.arange(-5,2)}\n",
    "C_range = 10. ** np.arange(-5,2)\n",
    "grid_LR,gms_LR = gridSearch(\n",
    "    LR, parameter_LR, \"Value of C for LogisticRegression\", C_range)\n",
    "# plot the data\n",
    "ax3 = fig.add_subplot(1,3,3)\n",
    "custom_plot(ax3, C_range, gms_LR,\"Value of C for LogisticRegression\" )\n",
    "########## End of Logistic Regression#############\n"
   ]
  },
  {
   "cell_type": "markdown",
   "metadata": {},
   "source": [
    "### a. Why doesn't nearest neighbors work well for this problem?\n",
    "Because the vectorizers are all sparse, and that the number of non zero features is less than 1% when the vocabulary size is 30,000 words, and that kNN suffers from the curse of high dimensionality, kNN does not work well. Please observe the not very high accuracy from the below output \n",
    "\n",
    "### b. Any ideas why logistic regression doesn't work as well as Naive Bayes?\n",
    "You can see in the above result that when optimum regularization hyper parameter C is chosen, then one can get results closer to Naive Bayes. The difference in the results don't appear to be statistically significant. However, this is the case only with training and Cross validation. On the test set, it is clearly seen that Multinomial Naive Bayes performs better than Logistic Regression.\n",
    "\n",
    "### c. Logistic regression estimates a weight vector for each class, which you can access with the coef\\_ attribute. Output the sum of the squared weight values for each class for each setting of the C parameter. Briefly explain the relationship between the sum and the value of C."
   ]
  },
  {
   "cell_type": "code",
   "execution_count": 17,
   "metadata": {},
   "outputs": [
    {
     "name": "stdout",
     "output_type": "stream",
     "text": [
      "================================================================================\n",
      "kNN\n",
      "________________________________________________________________________________\n",
      "Training: \n",
      "KNeighborsClassifier(algorithm='auto', leaf_size=30, metric='minkowski',\n",
      "           metric_params=None, n_jobs=1, n_neighbors=5, p=2,\n",
      "           weights='distance')\n",
      "train time: 0.002s\n",
      "test time:  0.089s\n",
      "accuracy:   0.337\n",
      "classification report:\n",
      "                    precision    recall  f1-score   support\n",
      "\n",
      "       alt.atheism       0.68      0.09      0.16       165\n",
      "     comp.graphics       0.29      0.98      0.45       185\n",
      "         sci.space       0.88      0.12      0.20       199\n",
      "talk.religion.misc       0.73      0.06      0.12       127\n",
      "\n",
      "       avg / total       0.64      0.34      0.25       676\n",
      "\n",
      "\n",
      "================================================================================\n",
      "MultinomialNB\n",
      "________________________________________________________________________________\n",
      "Training: \n",
      "MultinomialNB(alpha=1.0, class_prior=None, fit_prior=True)\n",
      "train time: 0.011s\n",
      "test time:  0.002s\n",
      "accuracy:   0.793\n",
      "dimensionality: 33809\n",
      "density: 1.000000\n",
      "top 10 keywords per class:\n",
      "alt.atheism: kakwa kaist kaiserstrasse kai_h kai kahkonen kagoshima kaflowitz...\n",
      "comp.graphics: flamable flaking flagstaff fla fkt fkp fizzy fixtures fittingl...\n",
      "sci.space: gift gifconverter gif_file_name gif2jpg2 gif2jpg gic gibsonm giaca...\n",
      "talk.religion.misc: kck kcarroll barnes kc kbytes kbi barns kb karlsson imprison\n",
      "\n",
      "classification report:\n",
      "                    precision    recall  f1-score   support\n",
      "\n",
      "       alt.atheism       0.65      0.73      0.69       165\n",
      "     comp.graphics       0.93      0.92      0.93       185\n",
      "         sci.space       0.84      0.90      0.87       199\n",
      "talk.religion.misc       0.68      0.53      0.60       127\n",
      "\n",
      "       avg / total       0.79      0.79      0.79       676\n",
      "\n",
      "\n",
      "================================================================================\n",
      "LogisticReg\n",
      "________________________________________________________________________________\n",
      "Training: \n",
      "LogisticRegression(C=1.0, class_weight=None, dual=False, fit_intercept=True,\n",
      "          intercept_scaling=1, max_iter=100, multi_class='ovr', n_jobs=1,\n",
      "          penalty='l2', random_state=None, solver='liblinear', tol=0.0001,\n",
      "          verbose=0, warm_start=False)\n",
      "train time: 1.704s\n",
      "test time:  0.002s\n",
      "accuracy:   0.658\n",
      "dimensionality: 33809\n",
      "density: 1.000000\n",
      "top 10 keywords per class:\n",
      "alt.atheism: cobb thanks bible graphics islamic space okcforum atheism atheis...\n",
      "comp.graphics: package files 3d orbit 42 file god image space graphics\n",
      "sci.space: launch sci pat planets god dc graphics moon orbit space\n",
      "talk.religion.misc: 2000 order thing mr atheists buffalo graphics thanks spac...\n",
      "\n",
      "classification report:\n",
      "                    precision    recall  f1-score   support\n",
      "\n",
      "       alt.atheism       0.73      0.44      0.55       165\n",
      "     comp.graphics       0.56      0.95      0.70       185\n",
      "         sci.space       0.87      0.68      0.77       199\n",
      "talk.religion.misc       0.58      0.48      0.53       127\n",
      "\n",
      "       avg / total       0.70      0.66      0.65       676\n",
      "\n",
      "\n",
      "Results = \n",
      "\n",
      "None\n"
     ]
    }
   ],
   "source": [
    "import sys\n",
    "from sklearn.utils.extmath import density\n",
    "import logging\n",
    "\n",
    "\n",
    "# mapping from integer feature name to original token string\n",
    "feature_names = vectorizer.get_feature_names()\n",
    "\n",
    "if feature_names:\n",
    "    feature_names = np.asarray(feature_names)\n",
    "\n",
    "\n",
    "def trim(s):\n",
    "    \"\"\"Trim string to fit on terminal (assuming 80-column display)\"\"\"\n",
    "    return s if len(s) <= 80 else s[:77] + \"...\"\n",
    "\n",
    "# #############################################################################\n",
    "# Benchmark classifiers\n",
    "def benchmark(clf, \n",
    "              ipts_print_report='', ipts_print_cm='', ipts_print_top10='Y',\n",
    "              X_train = X_train,\n",
    "              y_train = y_train,\n",
    "              X_dev   = X_dev,\n",
    "              y_dev   = y_dev\n",
    "              ):\n",
    "    print('_' * 80)\n",
    "    print(\"Training: \")\n",
    "    print(clf)\n",
    "    t0 = time()\n",
    "    clf.fit(X_train, y_train)\n",
    "    train_time = time() - t0\n",
    "    print(\"train time: %0.3fs\" % train_time)\n",
    "\n",
    "    t0 = time()\n",
    "    pred = clf.predict(X_dev)\n",
    "    test_time = time() - t0\n",
    "    print(\"test time:  %0.3fs\" % test_time)\n",
    "\n",
    "    score = metrics.accuracy_score(y_dev, pred)\n",
    "    print(\"accuracy:   %0.3f\" % score)\n",
    "\n",
    "    if hasattr(clf, 'coef_'):\n",
    "        print(\"dimensionality: %d\" % clf.coef_.shape[1])\n",
    "        print(\"density: %f\" % density(clf.coef_))\n",
    "\n",
    "        if ipts_print_top10 == 'Y' and feature_names is not None:\n",
    "            print(\"top 10 keywords per class:\")\n",
    "            for i, label in enumerate(target_names):\n",
    "                top10 = np.argsort(np.abs(clf.coef_[i]))[-10:]\n",
    "                print(trim(\"%s: %s\" % (label, \" \".join(feature_names[top10]))))\n",
    "        print()\n",
    "\n",
    "    if ipts_print_report:\n",
    "        print(\"classification report:\")\n",
    "        print(metrics.classification_report(y_dev, pred,\n",
    "                                            target_names=target_names))\n",
    "\n",
    "    if ipts_print_cm:\n",
    "        print(\"confusion matrix:\")\n",
    "        print(metrics.confusion_matrix(y_dev, pred))\n",
    "\n",
    "    print()\n",
    "    clf_descr = str(clf).split('(')[0]\n",
    "    return clf_descr, score, train_time, test_time\n",
    "\n",
    "def P3():\n",
    "    results = []\n",
    "    for clf, name in (\n",
    "            (KNeighborsClassifier(**grid_kNN.best_params_), \"kNN\"),\n",
    "            (MultinomialNB(**grid_MNB.best_params_), \"MultinomialNB\"),\n",
    "            (LogisticRegression(), 'LogisticReg')\n",
    "            ):\n",
    "        print('=' * 80)\n",
    "        print(name)\n",
    "        results.append(benchmark(clf, ipts_print_report='Y'))\n",
    "\n",
    "results = []\n",
    "results = P3()\n",
    "print('Results = \\n')\n",
    "print(results)\n"
   ]
  },
  {
   "cell_type": "markdown",
   "metadata": {},
   "source": [
    "4) Train a logistic regression model. Find the 5 features with the largest weights for each label -- 20 features in total. Create a table with 20 rows and 4 columns that shows the weight for each of these features for each of the labels. Create the table again with bigram features. Any surprising features in this table?\n",
    "\n"
   ]
  },
  {
   "cell_type": "code",
   "execution_count": 14,
   "metadata": {},
   "outputs": [
    {
     "name": "stdout",
     "output_type": "stream",
     "text": [
      "Training vector n_samples: 2034 n_features: 33809\n",
      "Test vector n_samples: 676 n_features: 33809\n",
      "================================================================================\n",
      "LogisticReg with L2 regularization\n",
      "________________________________________________________________________________\n",
      "Training: \n",
      "LogisticRegression(C=1.0, class_weight=None, dual=False, fit_intercept=True,\n",
      "          intercept_scaling=1, max_iter=100, multi_class='ovr', n_jobs=1,\n",
      "          penalty='l2', random_state=None, solver='liblinear', tol=0.0001,\n",
      "          verbose=0, warm_start=False)\n",
      "train time: 1.278s\n",
      "test time:  0.002s\n",
      "accuracy:   0.658\n",
      "dimensionality: 33809\n",
      "density: 1.000000\n",
      "\n",
      "\n",
      "Coefficient shape:  (4, 33809)\n"
     ]
    },
    {
     "ename": "ValueError",
     "evalue": "style is not supported for non-unique indicies.",
     "output_type": "error",
     "traceback": [
      "\u001b[1;31m---------------------------------------------------------------------------\u001b[0m",
      "\u001b[1;31mValueError\u001b[0m                                Traceback (most recent call last)",
      "\u001b[1;32m<ipython-input-14-4a1f7ebb3009>\u001b[0m in \u001b[0;36m<module>\u001b[1;34m()\u001b[0m\n\u001b[0;32m     38\u001b[0m \u001b[1;33m\u001b[0m\u001b[0m\n\u001b[0;32m     39\u001b[0m \u001b[0mlabel_coef\u001b[0m \u001b[1;33m=\u001b[0m \u001b[0mp4\u001b[0m\u001b[1;33m(\u001b[0m\u001b[1;33m)\u001b[0m\u001b[1;33m\u001b[0m\u001b[0m\n\u001b[1;32m---> 40\u001b[1;33m \u001b[0mlabel_coef\u001b[0m\u001b[1;33m.\u001b[0m\u001b[0mstyle\u001b[0m\u001b[1;33m.\u001b[0m\u001b[0mhighlight_max\u001b[0m\u001b[1;33m(\u001b[0m\u001b[0maxis\u001b[0m\u001b[1;33m=\u001b[0m\u001b[1;36m1\u001b[0m\u001b[1;33m)\u001b[0m\u001b[1;33m\u001b[0m\u001b[0m\n\u001b[0m",
      "\u001b[1;32mC:\\Users\\I822363\\AppData\\Local\\Continuum\\Anaconda3\\lib\\site-packages\\pandas\\core\\frame.py\u001b[0m in \u001b[0;36mstyle\u001b[1;34m(self)\u001b[0m\n\u001b[0;32m    642\u001b[0m         \"\"\"\n\u001b[0;32m    643\u001b[0m         \u001b[1;32mfrom\u001b[0m \u001b[0mpandas\u001b[0m\u001b[1;33m.\u001b[0m\u001b[0mio\u001b[0m\u001b[1;33m.\u001b[0m\u001b[0mformats\u001b[0m\u001b[1;33m.\u001b[0m\u001b[0mstyle\u001b[0m \u001b[1;32mimport\u001b[0m \u001b[0mStyler\u001b[0m\u001b[1;33m\u001b[0m\u001b[0m\n\u001b[1;32m--> 644\u001b[1;33m         \u001b[1;32mreturn\u001b[0m \u001b[0mStyler\u001b[0m\u001b[1;33m(\u001b[0m\u001b[0mself\u001b[0m\u001b[1;33m)\u001b[0m\u001b[1;33m\u001b[0m\u001b[0m\n\u001b[0m\u001b[0;32m    645\u001b[0m \u001b[1;33m\u001b[0m\u001b[0m\n\u001b[0;32m    646\u001b[0m     \u001b[1;32mdef\u001b[0m \u001b[0miteritems\u001b[0m\u001b[1;33m(\u001b[0m\u001b[0mself\u001b[0m\u001b[1;33m)\u001b[0m\u001b[1;33m:\u001b[0m\u001b[1;33m\u001b[0m\u001b[0m\n",
      "\u001b[1;32mC:\\Users\\I822363\\AppData\\Local\\Continuum\\Anaconda3\\lib\\site-packages\\pandas\\io\\formats\\style.py\u001b[0m in \u001b[0;36m__init__\u001b[1;34m(self, data, precision, table_styles, uuid, caption, table_attributes)\u001b[0m\n\u001b[0;32m    128\u001b[0m             \u001b[0mdata\u001b[0m \u001b[1;33m=\u001b[0m \u001b[0mdata\u001b[0m\u001b[1;33m.\u001b[0m\u001b[0mto_frame\u001b[0m\u001b[1;33m(\u001b[0m\u001b[1;33m)\u001b[0m\u001b[1;33m\u001b[0m\u001b[0m\n\u001b[0;32m    129\u001b[0m         \u001b[1;32mif\u001b[0m \u001b[1;32mnot\u001b[0m \u001b[0mdata\u001b[0m\u001b[1;33m.\u001b[0m\u001b[0mindex\u001b[0m\u001b[1;33m.\u001b[0m\u001b[0mis_unique\u001b[0m \u001b[1;32mor\u001b[0m \u001b[1;32mnot\u001b[0m \u001b[0mdata\u001b[0m\u001b[1;33m.\u001b[0m\u001b[0mcolumns\u001b[0m\u001b[1;33m.\u001b[0m\u001b[0mis_unique\u001b[0m\u001b[1;33m:\u001b[0m\u001b[1;33m\u001b[0m\u001b[0m\n\u001b[1;32m--> 130\u001b[1;33m             \u001b[1;32mraise\u001b[0m \u001b[0mValueError\u001b[0m\u001b[1;33m(\u001b[0m\u001b[1;34m\"style is not supported for non-unique indicies.\"\u001b[0m\u001b[1;33m)\u001b[0m\u001b[1;33m\u001b[0m\u001b[0m\n\u001b[0m\u001b[0;32m    131\u001b[0m \u001b[1;33m\u001b[0m\u001b[0m\n\u001b[0;32m    132\u001b[0m         \u001b[0mself\u001b[0m\u001b[1;33m.\u001b[0m\u001b[0mdata\u001b[0m \u001b[1;33m=\u001b[0m \u001b[0mdata\u001b[0m\u001b[1;33m\u001b[0m\u001b[0m\n",
      "\u001b[1;31mValueError\u001b[0m: style is not supported for non-unique indicies."
     ]
    }
   ],
   "source": [
    "def p4(\n",
    "                X_train  = X_train,\n",
    "                y_train  = y_train,\n",
    "                X_dev    = X_dev,\n",
    "                y_dev    = y_dev,\n",
    "                features = feature_names\n",
    "):\n",
    "    print(\"Training vector n_samples: %d n_features: %d\" % X_train.shape)\n",
    "    print(\"Test vector n_samples: %d n_features: %d\" % X_dev.shape)\n",
    "    results = []\n",
    "    twenty = []\n",
    "    clf, name = (\n",
    "        LogisticRegression(), \n",
    "        'LogisticReg with L2 regularization')\n",
    "\n",
    "    print('=' * 80)\n",
    "    print(name)\n",
    "    results.append(benchmark(\n",
    "                             clf, ipts_print_top10='N',\n",
    "                             X_train = X_train,\n",
    "                             y_train = y_train,\n",
    "                             X_dev = X_dev,\n",
    "                             y_dev = y_dev )\n",
    "                  )\n",
    "    \n",
    "    twenty_rows = []\n",
    "    for i, label in enumerate(target_names):\n",
    "        top5 = np.argsort(np.abs(clf.coef_[i]))[-5:]\n",
    "        top5_features = features[top5]\n",
    "        twenty_rows.extend([j for j in top5_features])\n",
    "        twenty.extend(j for j in top5)\n",
    "    \n",
    "    print('Coefficient shape: ',clf.coef_.shape)\n",
    "    return pd.DataFrame(\n",
    "             data    = clf.coef_[:, twenty].round(decimals=3).T, \n",
    "             index   = twenty_rows,  \n",
    "             columns = target_names  )\n",
    "\n",
    "label_coef = p4()\n",
    "label_coef.style.highlight_max(axis=1)"
   ]
  },
  {
   "cell_type": "code",
   "execution_count": null,
   "metadata": {
    "collapsed": true
   },
   "outputs": [],
   "source": [
    "def count_Vectorize_wlogreg(\n",
    "                            ip_train_data = train_data, \n",
    "                            ip_dev_data   = dev_data\n",
    "                           ):\n",
    "    cv = CountVectorizer(ngram_range=(2,2), max_df=0.5, stop_words='english')\n",
    "    X_train_bigram = cv.fit_transform(ip_train_data)\n",
    "    y_train_bigram = train_labels\n",
    "\n",
    "    X_dev_bigram = cv.transform(ip_dev_data)\n",
    "    y_dev_bigram = dev_labels\n",
    "\n",
    "   # mapping from integer feature name to original token string\n",
    "    feature_names = cv.get_feature_names()\n",
    "\n",
    "    if feature_names:\n",
    "        feature_names = np.asarray(feature_names)\n",
    "\n",
    "   # Perform logistic regression classification\n",
    "    label_coef = p4(\n",
    "            X_train_bigram, y_train_bigram, \n",
    "            X_dev_bigram, y_dev_bigram, \n",
    "            feature_names\n",
    "                  )\n",
    "    return label_coef\n",
    "    \n",
    "# Do grid search for best C value (l2 regu') for the new \n",
    "# bigrams\n",
    "#parameter_LR = {'C': 10. ** np.arange(-5,2)}\n",
    "#C_range = 10. ** np.arange(-5,2)\n",
    "\n",
    "#LR = LogisticRegression()\n",
    "#grid_LR = gridSearch(\n",
    "#    LR, \n",
    "#    parameter_LR, \n",
    "#    \"Value of C for LogisticRegression\", C_range,\n",
    "#    X_train_bigram, y_train_bigram, X_dev_bigram, y_dev_bigram)"
   ]
  },
  {
   "cell_type": "code",
   "execution_count": null,
   "metadata": {
    "collapsed": true
   },
   "outputs": [],
   "source": [
    "#label_coef = pd.DataFrame()\n",
    "label_coef = count_Vectorize_wlogreg()\n",
    "label_coef.style.highlight_max(axis=1)"
   ]
  },
  {
   "cell_type": "code",
   "execution_count": null,
   "metadata": {
    "collapsed": true
   },
   "outputs": [],
   "source": [
    "\n",
    "def better_preprocessor(s):\n",
    "\n",
    "    ### STUDENT START ###\n",
    "    # convert to lower case\n",
    "    x = s\n",
    "\n",
    "    def func_replwlower(m):\n",
    "        if len(m.groups()[0]) > 15:\n",
    "            return ' '\n",
    "        else:\n",
    "            return m.groups()[0].lower()\n",
    "\n",
    "   # The below code first identifies words and converts to lower\n",
    "   # case. It also looks for characters such as \"I\" in the \n",
    "   # second half and convert to lower\n",
    "    x = re.sub(\"([A-Z][\\W_]+|([A-Z].)+)\", func_replwlower, x)\n",
    "\n",
    "   # Replace whitespace characters with space\n",
    "    x = re.sub(\"[\\s]\", ' ', x)\n",
    "    \n",
    "   # Remove long strings\n",
    "   # x = re.sub(\"\\S+@\\S+s?\", ' ', x)\n",
    "\n",
    "   # replace numbers with x\n",
    "    x = re.sub(\"[0-9]\", 'x', x)\n",
    "\n",
    "   # replace special characters with space\n",
    "    x = re.sub(\"[-:.,\\\"\\(\\)'><_\\?\\\\\\/\\|]\", ' ', x)\n",
    "    \n",
    "    return x\n",
    "### STUDENT END ###\n",
    "\n",
    "def P5():\n",
    "### STUDENT START ###\n",
    "\n",
    "# Preprocess the training and dev data, and then call P4 for \n",
    "# logistic reg..\n",
    "\n",
    "    proc_train_data = train_data\n",
    "    proc_dev_data = dev_data\n",
    "    for i in range(len(train_data)):\n",
    "        proc_train_data[i] = better_preprocessor(train_data[i])\n",
    "    for i in range(len(dev_data)):\n",
    "        proc_dev_data[i] = better_preprocessor(dev_data[i])\n",
    "        \n",
    "    #p4(proc_train_data, y_train, proc_dev_data, y_dev)  \n",
    "    label_coef = count_Vectorize_wlogreg(proc_train_data, proc_dev_data)\n",
    "    return label_coef\n",
    "    \n",
    "# Now count vectorize the processed data\n",
    "  \n",
    "### STUDENT END ###\n",
    "label_coef = P5()\n",
    "label_coef.style.highlight_max(axis=1)"
   ]
  },
  {
   "cell_type": "markdown",
   "metadata": {},
   "source": [
    "(6) The idea of regularization is to avoid learning very large weights (which are likely to fit the training data, but not generalize well) by adding a penalty to the total size of the learned weights. That is, logistic regression seeks the set of weights that minimizes errors in the training data AND has a small size. The default regularization, L2, computes this size as the sum of the squared weights (see P3, above). L1 regularization computes this size as the sum of the absolute values of the weights. The result is that whereas L2 regularization makes all the weights relatively small, L1 regularization drives lots of the weights to 0, effectively removing unimportant features.\n",
    "\n",
    "Train a logistic regression model using a \"l1\" penalty. Output the number of learned weights that are not equal to zero. How does this compare to the number of non-zero weights you get with \"l2\"? Now, reduce the size of the vocabulary by keeping only those features that have at least one non-zero weight and retrain a model using \"l2\".\n",
    "\n",
    "Make a plot showing accuracy of the re-trained model vs. the vocabulary size you get when pruning unused features by adjusting the C parameter.\n",
    "\n",
    "Note: The gradient descent code that trains the logistic regression model sometimes has trouble converging with extreme settings of the C parameter. Relax the convergence criteria by setting tol=.01 (the default is .0001)."
   ]
  },
  {
   "cell_type": "code",
   "execution_count": null,
   "metadata": {
    "collapsed": true
   },
   "outputs": [],
   "source": [
    "clf1 = LogisticRegression()\n",
    "Cs=list(np.power(10.0, np.arange(1, 5)))\n",
    "grid1 = GridSearchCV(clf1, param_grid={'C': Cs, 'penalty': ['l1'],\n",
    "                'tol': [0.01]}, cv=10)\n",
    "grid1.fit(X_train, y_train)\n",
    "clf1 = LogisticRegression(**grid1.best_params_)\n",
    "clf1.fit(X_train, y_train)\n",
    "pred = clf1.predict(X_dev)\n",
    "score = metrics.accuracy_score(y_dev, pred)\n",
    "print(\"Test accuracy with L1 regularization:   %0.3f\" % score)\n",
    "\n",
    "clf2 = LogisticRegression()\n",
    "grid2 = GridSearchCV(clf2, param_grid={'C': Cs, 'penalty': ['l2'],\n",
    "                'tol': [0.01]}, cv=10)\n",
    "grid2.fit(X_train, y_train)\n",
    "clf2 = LogisticRegression(**grid2.best_params_)\n",
    "clf2.fit(X_train, y_train)\n",
    "pred = clf2.predict(X_dev)\n",
    "score = metrics.accuracy_score(y_dev, pred)\n",
    "print(\"Test accuracy with L2 regularization:   %0.3f\" % score)\n",
    "\n"
   ]
  },
  {
   "cell_type": "code",
   "execution_count": null,
   "metadata": {
    "collapsed": true
   },
   "outputs": [],
   "source": [
    "def logreg(\n",
    "           vectorizer = vectorizer,\n",
    "           param_grid={'C': Cs, 'penalty': ['l1'], 'tol': [0.01]},\n",
    "           cs=list(np.power(10.0, np.arange(1, 5))),\n",
    "           cv=10\n",
    "          ):\n",
    "    clf = LogisticRegression()\n",
    "    grid = GridSearchCV(clf, param_grid, cv=10)\n",
    "    grid.fit(X_train, y_train)\n",
    "    clf = LogisticRegression(**grid.best_params_)\n",
    "    clf.fit(X_train, y_train)\n",
    "    pred = clf.predict(X_dev)\n",
    "    score = metrics.accuracy_score(y_dev, pred)\n",
    "    print(\"Best parameters: \", grid.best_params_)\n",
    "    print(\"best cross validation score: %.3f \\n\" % score)\n",
    "    \n",
    "    feature_names = vectorizer.get_feature_names()\n",
    "    if feature_names:\n",
    "        feature_names = np.asarray(feature_names)\n",
    "\n",
    "    clf_df = pd.DataFrame(\n",
    "             data    = clf.coef_[:, :].round(decimals=3), \n",
    "             index   = target_names,  \n",
    "             columns = feature_names  )    \n",
    "   \n",
    "    return clf, clf_df\n",
    "\n",
    "Cs=list(np.power(10.0, np.arange(1, 5)))\n",
    "clf1, clf1_df = logreg()\n",
    "clf2, clf2_df = logreg(param_grid={'C': Cs, 'penalty': ['l2'], 'tol': [0.01]})"
   ]
  },
  {
   "cell_type": "markdown",
   "metadata": {},
   "source": [
    "Print L1 penalty - coefficients of Logistic Regression. You'll observe multiple zero valued features, which is a consequence of \n",
    "L1 regularization"
   ]
  },
  {
   "cell_type": "code",
   "execution_count": null,
   "metadata": {
    "collapsed": true
   },
   "outputs": [],
   "source": [
    "clf1_df.head()"
   ]
  },
  {
   "cell_type": "markdown",
   "metadata": {},
   "source": [
    "Below: Print data frame of l2 penalty logistic regression coefficients. Here you can see that there arent any 0 features"
   ]
  },
  {
   "cell_type": "code",
   "execution_count": null,
   "metadata": {
    "collapsed": true
   },
   "outputs": [],
   "source": [
    "clf2_df.head()"
   ]
  },
  {
   "cell_type": "markdown",
   "metadata": {},
   "source": [
    "Feature set reduction using L1 regularization (Remove zero coefficient features)"
   ]
  },
  {
   "cell_type": "code",
   "execution_count": null,
   "metadata": {
    "collapsed": true
   },
   "outputs": [],
   "source": [
    "# Calculate features that are non zero from the L1 regression \n",
    "# classifier\n",
    "clf1_count = 0\n",
    "clf2_count = 0\n",
    "nz_feature_list = [] # stores non zero feature list\n",
    "\n",
    "count_index = 0\n",
    "for colnames in feature_names:\n",
    "    if sum(clf1_df[colnames]) != 0.0:\n",
    "        clf1_count += 1\n",
    "        nz_feature_list.append(count_index)\n",
    "    if sum(clf2_df[colnames]) != 0.0:\n",
    "        clf2_count += 1\n",
    "    count_index = count_index + 1\n",
    "\n",
    "print(X_train.shape)\n",
    "mod_X_train = X_train[:,nz_feature_list]\n",
    "mod_X_dev = X_dev[:,nz_feature_list]\n",
    "\n",
    "clf21 = LogisticRegression()\n",
    "grid21 = GridSearchCV(clf21, param_grid={'C': Cs, 'penalty': ['l2'],\n",
    "                'tol': [0.01]}, cv=10)\n",
    "grid21.fit(mod_X_train, y_train)\n",
    "clf21 = LogisticRegression(**grid21.best_params_)\n",
    "clf21.fit(mod_X_train, y_train)\n",
    "pred = clf21.predict(mod_X_dev)\n",
    "score = metrics.accuracy_score(y_dev, pred)\n",
    "print(\"Test accuracy:   %0.3f\" % score)\n"
   ]
  },
  {
   "cell_type": "markdown",
   "metadata": {},
   "source": [
    "Plot a scatter plot of Regularization parameter C vs Cross validated accuracy with reduced feature set"
   ]
  },
  {
   "cell_type": "code",
   "execution_count": null,
   "metadata": {
    "collapsed": true
   },
   "outputs": [],
   "source": [
    "LR = LogisticRegression()\n",
    "Cs=list(np.power(10.0, np.arange(-3, 3)))\n",
    "param_grid={'C': Cs, 'penalty': ['l2'],\n",
    "                'tol': [0.01]}\n",
    "C_range = Cs\n",
    "grid_LR = gridSearch(\n",
    "    LR, param_grid, \"Value of C for LogisticRegression\", C_range,\n",
    "    X_train = mod_X_train,\n",
    "    y_train = y_train,\n",
    "    X_dev = mod_X_dev,\n",
    "    y_dev = y_dev)"
   ]
  },
  {
   "cell_type": "markdown",
   "metadata": {
    "collapsed": true
   },
   "source": [
    "### (7) Use the TfidfVectorizer -- how is this different from the CountVectorizer? Train a logistic regression model with C=100."
   ]
  },
  {
   "cell_type": "code",
   "execution_count": null,
   "metadata": {
    "collapsed": true
   },
   "outputs": [],
   "source": [
    "# Use TfidVectorizer to tokenize X_train and X_dev\n",
    "\n",
    "def P7():\n",
    "    print(\n",
    "    \"Extracting features from the training data using Tfidvectorizer\")\n",
    "    vectorizer = TfidfVectorizer(sublinear_tf=True, max_df=0.5,\n",
    "                                 stop_words='english')\n",
    "    t0 = time()\n",
    "    X_train = vectorizer.fit_transform(train_data)\n",
    "    X_dev = vectorizer.transform(dev_data)\n",
    "    duration = time() - t0\n",
    "    \n",
    "    data_train_size_mb = size_mb(train_data)\n",
    "    data_test_size_mb = size_mb(dev_data)\n",
    "    print(\"done in %fs at %0.3fMB/s\" % (\n",
    "        duration, data_train_size_mb / duration))\n",
    "    print(\"n_samples: %d, n_features: %d\" % X_train.shape)\n",
    "    print()\n",
    "    return X_train,  X_dev, vectorizer\n",
    "\n",
    "# Call P7 to initialize TfidVectorizer \n",
    "X_train, X_dev, vectorizer = P7()\n",
    "Cs=list(np.power(10.0, np.arange(2, 3)))    \n",
    "print(\"Logistic Regression results:\")\n",
    "print(\"============================\")\n",
    "clf, clf_df = logreg(vectorizer, {'C': Cs}, Cs)\n",
    "pred = clf.predict(X_dev)\n",
    "\n",
    "\n",
    "\n"
   ]
  },
  {
   "cell_type": "markdown",
   "metadata": {},
   "source": [
    "TfidVectorizer is different from CountVectorizer in the way that it is equivalent to CountVectorizer followed by TfidfTransformer. While CountVectorizer tokenizes the documents and counts the occurrences of tokens and return them as a sparse matrix, Tfidf applies term frequency multiplied by Inverse document frequency. The IDF is given by the formula\n",
    "\n",
    "\\begin{equation*}\n",
    "idf(t) = log \\frac{1 + n_d}{1 + df(d,t)} + 1\n",
    "\\end{equation*}\n",
    "\n",
    "where $n_d$ is the total number of documents, \n",
    "and ${df}(d,t)$ is the number of documents that contain term t. "
   ]
  },
  {
   "cell_type": "markdown",
   "metadata": {},
   "source": [
    "### Make predictions on the dev data and show the top 3 documents where the ratio R is largest, where R is: maximum predicted probability / predicted probability of the correct label\n",
    "\n",
    "### What kinds of mistakes is the model making? Suggest a way to address one particular issue that you see."
   ]
  },
  {
   "cell_type": "code",
   "execution_count": null,
   "metadata": {
    "collapsed": true
   },
   "outputs": [],
   "source": [
    "t = clf.predict_proba(X_dev)\n",
    "indices = np.where(pred != y_dev)\n",
    "\n",
    "t = clf.predict_proba(X_dev)\n",
    "td = pd.DataFrame(t[indices])\n",
    "td[\"max_prob\"] = td.max(axis=1)\n",
    "td[\"y\"] = y_dev[indices]\n",
    "td[\"pred\"] = pred[indices]\n",
    "td[\"R\"] = td.apply(lambda row: row[\"max_prob\"] / row[int(row[\"y\"])], axis=1)\n",
    "td.sort_values(by=\"R\", ascending=False)[:3]\n"
   ]
  },
  {
   "cell_type": "markdown",
   "metadata": {},
   "source": [
    "You can see the R calculated above. Let's look at these 3 specific examples:"
   ]
  },
  {
   "cell_type": "code",
   "execution_count": null,
   "metadata": {
    "collapsed": true
   },
   "outputs": [],
   "source": [
    "top3Rs = td.sort_values(by=\"R\", ascending=False)[:3].index\n",
    "for i in top3Rs:\n",
    "    print(\"\\n\",i, '-', dev_data[i])\n",
    "\n"
   ]
  },
  {
   "cell_type": "markdown",
   "metadata": {},
   "source": [
    "Entry 74 is blank, but it appears as one of the top misclassifications. It does not make sense to run tests on such data. There is a need to cleanse the data by removing empty data entries from the data set."
   ]
  }
 ],
 "metadata": {
  "kernelspec": {
   "display_name": "Python 3",
   "language": "python",
   "name": "python3"
  },
  "language_info": {
   "codemirror_mode": {
    "name": "ipython",
    "version": 3
   },
   "file_extension": ".py",
   "mimetype": "text/x-python",
   "name": "python",
   "nbconvert_exporter": "python",
   "pygments_lexer": "ipython3",
   "version": "3.6.1"
  }
 },
 "nbformat": 4,
 "nbformat_minor": 2
}

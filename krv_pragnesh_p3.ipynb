{
 "cells": [
  {
   "cell_type": "markdown",
   "metadata": {},
   "source": [
    "# Project 3: Poisonous mushrooms\n",
    "In this project, you'll investigate properties of mushrooms. This classic dataset contains over 8000 observations, where each mushroom is described by a variety of features like color, odor, etc., and the target variable is an indicator for whether the mushroom is poisonous. Since all the observations are categorical, I've binarized the feature space. Look at the feature_names below to see all 126 binary names.\n",
    "\n",
    "You'll start by running PCA to reduce the dimensionality from 126 down to 2 so that you can easily visualize the data. In general, PCA is very useful for visualization (though sklearn.manifold.tsne is known to produce better visualizations). Recall that PCA is a linear transformation. The 1st projected dimension is the linear combination of all 126 original features that captures as much of the variance in the data as possible. The 2nd projected dimension is the linear combination of all 126 original features that captures as much of the remaining variance as possible. The idea of dense low dimensional representations is crucial to machine learning!\n",
    "\n",
    "Once you've projected the data to 2 dimensions, you'll experiment with clustering using KMeans and density estimation with Gaussian Mixture Models. Finally, you'll train a classifier by fitting a GMM for the positive class and a GMM for the negative class, and perform inference by comparing the probabilities output by each model.\n",
    "\n",
    "As always, you're welcome to work on the project in groups and discuss ideas on the course wall, but please prepare your own write-up and write your own code."
   ]
  },
  {
   "cell_type": "code",
   "execution_count": 21,
   "metadata": {
    "collapsed": true
   },
   "outputs": [],
   "source": [
    "%matplotlib inline\n",
    "\n",
    "import numpy as np\n",
    "import pandas as pd\n",
    "import matplotlib.pyplot as plt\n",
    "from sklearn import metrics\n",
    "from sklearn.decomposition import PCA\n",
    "from sklearn.cluster import KMeans\n",
    "from sklearn.mixture import GMM\n",
    "from matplotlib.colors import LogNorm"
   ]
  },
  {
   "cell_type": "markdown",
   "metadata": {},
   "source": [
    "Load feature names."
   ]
  },
  {
   "cell_type": "code",
   "execution_count": 22,
   "metadata": {
    "collapsed": false
   },
   "outputs": [
    {
     "name": "stdout",
     "output_type": "stream",
     "text": [
      "Loaded feature names: 126\n"
     ]
    }
   ],
   "source": [
    "feature_names = []\n",
    "with open('C:\\\\Users\\\\sagar\\\\Documents\\\\MIDS\\\\W207\\\\Data\\\\mushroom.map') as fmap:\n",
    "    for line in fmap:\n",
    "        [index, name, junk] = line.split()\n",
    "        feature_names.append(name)\n",
    "\n",
    "print('Loaded feature names:', len(feature_names))"
   ]
  },
  {
   "cell_type": "markdown",
   "metadata": {},
   "source": [
    "Loaded feature names: 126\n",
    "Load data. The data is sparse in the input file, but there aren't too many features, so we'll use a dense representation, which is supported by all sklearn objects."
   ]
  },
  {
   "cell_type": "code",
   "execution_count": 23,
   "metadata": {
    "collapsed": false
   },
   "outputs": [
    {
     "name": "stdout",
     "output_type": "stream",
     "text": [
      "(7000, 126) (1124, 126)\n"
     ]
    }
   ],
   "source": [
    "X, Y = [], []\n",
    "\n",
    "with open('C:\\\\Users\\\\sagar\\\\Documents\\\\MIDS\\\\W207\\\\Data\\\\mushroom.data') as fdata:\n",
    "    for line in fdata:\n",
    "        items = line.split()\n",
    "        Y.append(int(items.pop(0)))\n",
    "        x = np.zeros(len(feature_names))\n",
    "        for item in items:\n",
    "            feature = int(item.split(':')[0])\n",
    "            x[feature] = 1\n",
    "        X.append(x)\n",
    "\n",
    "# Convert these lists to numpy arrays.\n",
    "X = np.array(X)\n",
    "Y = np.array(Y)\n",
    "\n",
    "# Split into train and test data.\n",
    "train_data, train_labels = X[:7000], Y[:7000]\n",
    "test_data, test_labels = X[7000:], Y[7000:]\n",
    "\n",
    "# Check that the shapes look right.\n",
    "print(train_data.shape, test_data.shape)"
   ]
  },
  {
   "cell_type": "markdown",
   "metadata": {},
   "source": [
    "Convert to Data Frames"
   ]
  },
  {
   "cell_type": "code",
   "execution_count": 24,
   "metadata": {
    "collapsed": false
   },
   "outputs": [],
   "source": [
    "X_train = pd.DataFrame(data = train_data)\n",
    "y_train = pd.DataFrame(train_labels)\n",
    "\n",
    "X_test = pd.DataFrame(data = test_data)\n",
    "y_test = pd.DataFrame(data = test_labels)"
   ]
  },
  {
   "cell_type": "markdown",
   "metadata": {},
   "source": [
    "(1) Run Principal Components Analysis on the data. Show what fraction of the total variance in the training data is explained by the first k principal components, for k in [1, 50]."
   ]
  },
  {
   "cell_type": "code",
   "execution_count": 25,
   "metadata": {
    "collapsed": false
   },
   "outputs": [
    {
     "name": "stdout",
     "output_type": "stream",
     "text": [
      "50 principal components are able to explain 98.21 percent of the variance\n",
      "k: 2 components explain 16.40 percent of the variance\n",
      "k: 3 components explain 29.73 percent of the variance\n",
      "k: 4 components explain 39.90 percent of the variance\n",
      "k: 5 components explain 46.96 percent of the variance\n",
      "k: 6 components explain 50.83 percent of the variance\n",
      "k: 7 components explain 54.51 percent of the variance\n",
      "k: 8 components explain 57.64 percent of the variance\n",
      "k: 9 components explain 60.37 percent of the variance\n",
      "k: 10 components explain 62.99 percent of the variance\n",
      "k: 11 components explain 65.22 percent of the variance\n",
      "k: 12 components explain 67.27 percent of the variance\n",
      "k: 13 components explain 69.14 percent of the variance\n",
      "k: 14 components explain 70.87 percent of the variance\n",
      "k: 15 components explain 72.56 percent of the variance\n",
      "k: 16 components explain 74.08 percent of the variance\n",
      "k: 17 components explain 75.58 percent of the variance\n",
      "k: 18 components explain 77.01 percent of the variance\n",
      "k: 19 components explain 78.43 percent of the variance\n",
      "k: 20 components explain 79.75 percent of the variance\n",
      "k: 21 components explain 80.90 percent of the variance\n",
      "k: 22 components explain 81.97 percent of the variance\n",
      "k: 23 components explain 83.03 percent of the variance\n",
      "k: 24 components explain 84.07 percent of the variance\n",
      "k: 25 components explain 85.07 percent of the variance\n",
      "k: 26 components explain 85.98 percent of the variance\n",
      "k: 27 components explain 86.85 percent of the variance\n",
      "k: 28 components explain 87.64 percent of the variance\n",
      "k: 29 components explain 88.42 percent of the variance\n",
      "k: 30 components explain 89.15 percent of the variance\n",
      "k: 31 components explain 89.85 percent of the variance\n",
      "k: 32 components explain 90.50 percent of the variance\n",
      "k: 33 components explain 91.11 percent of the variance\n",
      "k: 34 components explain 91.68 percent of the variance\n",
      "k: 35 components explain 92.22 percent of the variance\n",
      "k: 36 components explain 92.74 percent of the variance\n",
      "k: 37 components explain 93.25 percent of the variance\n",
      "k: 38 components explain 93.74 percent of the variance\n",
      "k: 39 components explain 94.20 percent of the variance\n",
      "k: 40 components explain 94.65 percent of the variance\n",
      "k: 41 components explain 95.09 percent of the variance\n",
      "k: 42 components explain 95.51 percent of the variance\n",
      "k: 43 components explain 95.91 percent of the variance\n",
      "k: 44 components explain 96.28 percent of the variance\n",
      "k: 45 components explain 96.64 percent of the variance\n",
      "k: 46 components explain 96.98 percent of the variance\n",
      "k: 47 components explain 97.28 percent of the variance\n",
      "k: 48 components explain 97.55 percent of the variance\n",
      "k: 49 components explain 97.78 percent of the variance\n",
      "k: 50 components explain 98.01 percent of the variance\n",
      "k: 51 components explain 98.21 percent of the variance\n"
     ]
    },
    {
     "data": {
      "image/png": "[encoded data removed]",
      "text/plain": [
       "<matplotlib.figure.Figure at 0x10f78626ef0>"
      ]
     },
     "metadata": {},
     "output_type": "display_data"
    }
   ],
   "source": [
    "def P1(ip_num_comp = 50):\n",
    "    pca = PCA(n_components= ip_num_comp)\n",
    "    pca.fit(X_train)\n",
    "    print('50 principal components are able to explain %.2f percent of the variance' % (\n",
    "        np.round(np.sum(pca.explained_variance_ratio_),4) * 100))\n",
    "    for i in range(1, ip_num_comp + 1):\n",
    "        cum_var = 100 * np.sum(pca.explained_variance_ratio_[:i])\n",
    "        print('k: %d components explain %.2f percent of the variance' % (i+1, np.round(cum_var,4)))\n",
    "    plt.plot(100 * np.cumsum(pca.explained_variance_ratio_))\n",
    "    return pca\n",
    "    \n",
    "pca = P1()"
   ]
  },
  {
   "cell_type": "markdown",
   "metadata": {},
   "source": [
    "(2) PCA can be very useful for visualizing data. Project the training data down to 2 dimensions and plot it. Show the positive (poisonous) cases in blue and the negative (non-poisonous) in red. Here's a reference for plotting: http://matplotlib.org/users/pyplot_tutorial.html"
   ]
  },
  {
   "cell_type": "code",
   "execution_count": 26,
   "metadata": {
    "collapsed": false
   },
   "outputs": [
    {
     "data": {
      "image/png": "[encoded data removed]",
      "text/plain": [
       "<matplotlib.figure.Figure at 0x10f78357080>"
      ]
     },
     "metadata": {},
     "output_type": "display_data"
    }
   ],
   "source": [
    "def P2(ip_num_comp = 2):\n",
    "# Method 3 to carry out PCA \n",
    "# from the previously calculate PCA, pick only 2 components\n",
    "# and separate them into poisonous and non posinous based on labels\n",
    "# and chart them\n",
    "    Vt = pca.components_[:2, :]\n",
    "    M = X_train - X_train.mean()\n",
    "    U = np.matmul(M, np.transpose(Vt))\n",
    "    \n",
    "    # segregate into poisonous and non-poisonous\n",
    "    poison_data = U[y_train.index[y_train[0] == 1].tolist(), :]\n",
    "    non_poison_data = U[y_train.index[y_train[0] == 0].tolist(), :]\n",
    "    \n",
    "    # Begin plotting\n",
    "    non_poison = plt.scatter(\n",
    "        non_poison_data[:,0], non_poison_data[:,1],facecolor='r',marker=\"o\",alpha=.4,s=8,lw=0.3)\n",
    "    poison = plt.scatter(\n",
    "        poison_data[:,0],poison_data[:,1],facecolor='b',marker=\"o\",alpha=.6,s=8,lw=0.3)\n",
    "    plt.xlabel(\"First principal component score\")\n",
    "    plt.ylabel('Second principal component score')\n",
    "    plt.title(\"Projection of the training data to the first two principal component axes\")\n",
    "    plt.legend((poison,non_poison),\n",
    "           ('Positive (poisonous)', 'Negative (non-poisonous)'),\n",
    "           scatterpoints=1,\n",
    "           loc='upper right',\n",
    "           ncol=1,\n",
    "           fontsize=8)\n",
    "    plt.show() \n",
    "\n",
    "P2()"
   ]
  },
  {
   "cell_type": "code",
   "execution_count": null,
   "metadata": {
    "collapsed": false
   },
   "outputs": [],
   "source": []
  },
  {
   "cell_type": "code",
   "execution_count": null,
   "metadata": {
    "collapsed": false
   },
   "outputs": [],
   "source": []
  },
  {
   "cell_type": "code",
   "execution_count": null,
   "metadata": {
    "collapsed": false
   },
   "outputs": [],
   "source": [
    "\n"
   ]
  },
  {
   "cell_type": "code",
   "execution_count": null,
   "metadata": {
    "collapsed": false
   },
   "outputs": [],
   "source": [
    "\n"
   ]
  },
  {
   "cell_type": "code",
   "execution_count": null,
   "metadata": {
    "collapsed": false
   },
   "outputs": [],
   "source": []
  },
  {
   "cell_type": "code",
   "execution_count": null,
   "metadata": {
    "collapsed": true
   },
   "outputs": [],
   "source": []
  }
 ],
 "metadata": {
  "kernelspec": {
   "display_name": "Python 3",
   "language": "python",
   "name": "python3"
  },
  "language_info": {
   "codemirror_mode": {
    "name": "ipython",
    "version": 3
   },
   "file_extension": ".py",
   "mimetype": "text/x-python",
   "name": "python",
   "nbconvert_exporter": "python",
   "pygments_lexer": "ipython3",
   "version": "3.6.0"
  }
 },
 "nbformat": 4,
 "nbformat_minor": 2
}
